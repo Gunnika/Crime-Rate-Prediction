{
 "cells": [
  {
   "cell_type": "code",
   "execution_count": 188,
   "metadata": {},
   "outputs": [],
   "source": [
    "import pandas as pd\n",
    "import numpy as np\n",
    "import matplotlib.pyplot as plt\n",
    "from sklearn.preprocessing import StandardScaler\n",
    "from sklearn.model_selection import train_test_split\n",
    "from sklearn import linear_model\n",
    "from sklearn.linear_model import LinearRegression\n",
    "from sklearn.linear_model import LogisticRegression\n",
    "from sklearn.svm import SVR\n",
    "from sklearn.tree import DecisionTreeClassifier \n",
    "from sklearn.ensemble import RandomForestClassifier\n",
    "from sklearn.metrics import r2_score"
   ]
  },
  {
   "cell_type": "code",
   "execution_count": 2,
   "metadata": {},
   "outputs": [
    {
     "data": {
      "text/html": [
       "<div>\n",
       "<style scoped>\n",
       "    .dataframe tbody tr th:only-of-type {\n",
       "        vertical-align: middle;\n",
       "    }\n",
       "\n",
       "    .dataframe tbody tr th {\n",
       "        vertical-align: top;\n",
       "    }\n",
       "\n",
       "    .dataframe thead th {\n",
       "        text-align: right;\n",
       "    }\n",
       "</style>\n",
       "<table border=\"1\" class=\"dataframe\">\n",
       "  <thead>\n",
       "    <tr style=\"text-align: right;\">\n",
       "      <th></th>\n",
       "      <th>land_area</th>\n",
       "      <th>percent_city</th>\n",
       "      <th>percent_senior</th>\n",
       "      <th>physicians</th>\n",
       "      <th>hospital_beds</th>\n",
       "      <th>graduates</th>\n",
       "      <th>labor</th>\n",
       "      <th>income</th>\n",
       "      <th>region</th>\n",
       "      <th>crime_rate</th>\n",
       "    </tr>\n",
       "  </thead>\n",
       "  <tbody>\n",
       "    <tr>\n",
       "      <th>0</th>\n",
       "      <td>1384</td>\n",
       "      <td>78.1</td>\n",
       "      <td>12.3</td>\n",
       "      <td>25627</td>\n",
       "      <td>69678</td>\n",
       "      <td>50.1</td>\n",
       "      <td>4083.9</td>\n",
       "      <td>72100</td>\n",
       "      <td>1</td>\n",
       "      <td>75.55</td>\n",
       "    </tr>\n",
       "    <tr>\n",
       "      <th>1</th>\n",
       "      <td>3719</td>\n",
       "      <td>43.9</td>\n",
       "      <td>9.4</td>\n",
       "      <td>13326</td>\n",
       "      <td>43292</td>\n",
       "      <td>53.9</td>\n",
       "      <td>3305.9</td>\n",
       "      <td>54542</td>\n",
       "      <td>2</td>\n",
       "      <td>56.03</td>\n",
       "    </tr>\n",
       "    <tr>\n",
       "      <th>2</th>\n",
       "      <td>3553</td>\n",
       "      <td>37.4</td>\n",
       "      <td>10.7</td>\n",
       "      <td>9724</td>\n",
       "      <td>33731</td>\n",
       "      <td>50.6</td>\n",
       "      <td>2066.3</td>\n",
       "      <td>33216</td>\n",
       "      <td>1</td>\n",
       "      <td>41.32</td>\n",
       "    </tr>\n",
       "    <tr>\n",
       "      <th>3</th>\n",
       "      <td>3916</td>\n",
       "      <td>29.9</td>\n",
       "      <td>8.8</td>\n",
       "      <td>6402</td>\n",
       "      <td>24167</td>\n",
       "      <td>52.2</td>\n",
       "      <td>1966.7</td>\n",
       "      <td>32906</td>\n",
       "      <td>2</td>\n",
       "      <td>67.38</td>\n",
       "    </tr>\n",
       "    <tr>\n",
       "      <th>4</th>\n",
       "      <td>2480</td>\n",
       "      <td>31.5</td>\n",
       "      <td>10.5</td>\n",
       "      <td>8502</td>\n",
       "      <td>16751</td>\n",
       "      <td>66.1</td>\n",
       "      <td>1514.5</td>\n",
       "      <td>26573</td>\n",
       "      <td>4</td>\n",
       "      <td>80.19</td>\n",
       "    </tr>\n",
       "  </tbody>\n",
       "</table>\n",
       "</div>"
      ],
      "text/plain": [
       "   land_area  percent_city  percent_senior  physicians  hospital_beds  \\\n",
       "0       1384          78.1            12.3       25627          69678   \n",
       "1       3719          43.9             9.4       13326          43292   \n",
       "2       3553          37.4            10.7        9724          33731   \n",
       "3       3916          29.9             8.8        6402          24167   \n",
       "4       2480          31.5            10.5        8502          16751   \n",
       "\n",
       "   graduates   labor  income  region  crime_rate  \n",
       "0       50.1  4083.9   72100       1       75.55  \n",
       "1       53.9  3305.9   54542       2       56.03  \n",
       "2       50.6  2066.3   33216       1       41.32  \n",
       "3       52.2  1966.7   32906       2       67.38  \n",
       "4       66.1  1514.5   26573       4       80.19  "
      ]
     },
     "execution_count": 2,
     "metadata": {},
     "output_type": "execute_result"
    }
   ],
   "source": [
    "train_data = pd.read_csv(\"Standard Metropolitan Areas Data - train_data.csv\")\n",
    "train_data.head()"
   ]
  },
  {
   "cell_type": "code",
   "execution_count": 3,
   "metadata": {},
   "outputs": [
    {
     "data": {
      "text/plain": [
       "(99, 10)"
      ]
     },
     "execution_count": 3,
     "metadata": {},
     "output_type": "execute_result"
    }
   ],
   "source": [
    "train_data.shape"
   ]
  },
  {
   "cell_type": "code",
   "execution_count": 5,
   "metadata": {},
   "outputs": [
    {
     "data": {
      "text/plain": [
       "land_area         0\n",
       "percent_city      0\n",
       "percent_senior    0\n",
       "physicians        0\n",
       "hospital_beds     0\n",
       "graduates         0\n",
       "labor             0\n",
       "income            0\n",
       "region            0\n",
       "crime_rate        0\n",
       "dtype: int64"
      ]
     },
     "execution_count": 5,
     "metadata": {},
     "output_type": "execute_result"
    }
   ],
   "source": [
    "train_data.isnull().sum()"
   ]
  },
  {
   "cell_type": "code",
   "execution_count": 207,
   "metadata": {},
   "outputs": [],
   "source": [
    "# #Feature Selection\n",
    "# y_df = train_data[['crime_rate']]\n",
    "# # x_df = train_data[['graduates']]\n",
    "# x_df = train_data.iloc[:,:-1]\n",
    "# # y_train = y_train.values.reshape(1,-1)\n",
    "# # x_train = x_train.reshape((1,-1))"
   ]
  },
  {
   "cell_type": "code",
   "execution_count": 211,
   "metadata": {},
   "outputs": [],
   "source": [
    "x_df = train_data.drop(\"crime_rate\",1)   #Feature Matrix\n",
    "y_df = train_data[\"crime_rate\"]"
   ]
  },
  {
   "cell_type": "code",
   "execution_count": 212,
   "metadata": {},
   "outputs": [
    {
     "name": "stdout",
     "output_type": "stream",
     "text": [
      "X Shape: (99, 9)\n",
      "Y Shape: (99,)\n"
     ]
    }
   ],
   "source": [
    "print(\"X Shape: {}\".format(x_df.shape))\n",
    "print(\"Y Shape: {}\".format(y_df.shape))"
   ]
  },
  {
   "cell_type": "code",
   "execution_count": 229,
   "metadata": {},
   "outputs": [],
   "source": [
    "# x_train2 = x_train.values.reshape((-1,1))\n",
    "y_df = y_df.values.reshape((-1,1))"
   ]
  },
  {
   "cell_type": "code",
   "execution_count": 230,
   "metadata": {},
   "outputs": [
    {
     "name": "stdout",
     "output_type": "stream",
     "text": [
      "X Shape: (99, 9)\n",
      "Y Shape: (99, 1)\n"
     ]
    }
   ],
   "source": [
    "print(\"X Shape: {}\".format(x_df.shape))\n",
    "print(\"Y Shape: {}\".format(y_df.shape))"
   ]
  },
  {
   "cell_type": "code",
   "execution_count": 231,
   "metadata": {},
   "outputs": [
    {
     "name": "stdout",
     "output_type": "stream",
     "text": [
      "(79, 9) (79, 1)\n",
      "(20, 9) (20, 1)\n"
     ]
    }
   ],
   "source": [
    "X_train, X_test, y_train, y_test = train_test_split(x_df, y_df, test_size=0.2)\n",
    "print(X_train.shape, y_train.shape)\n",
    "print(X_test.shape, y_test.shape)"
   ]
  },
  {
   "cell_type": "code",
   "execution_count": 232,
   "metadata": {},
   "outputs": [
    {
     "data": {
      "text/html": [
       "<div>\n",
       "<style scoped>\n",
       "    .dataframe tbody tr th:only-of-type {\n",
       "        vertical-align: middle;\n",
       "    }\n",
       "\n",
       "    .dataframe tbody tr th {\n",
       "        vertical-align: top;\n",
       "    }\n",
       "\n",
       "    .dataframe thead th {\n",
       "        text-align: right;\n",
       "    }\n",
       "</style>\n",
       "<table border=\"1\" class=\"dataframe\">\n",
       "  <thead>\n",
       "    <tr style=\"text-align: right;\">\n",
       "      <th></th>\n",
       "      <th>land_area</th>\n",
       "      <th>percent_city</th>\n",
       "      <th>percent_senior</th>\n",
       "      <th>physicians</th>\n",
       "      <th>hospital_beds</th>\n",
       "      <th>graduates</th>\n",
       "      <th>labor</th>\n",
       "      <th>income</th>\n",
       "      <th>region</th>\n",
       "      <th>crime_rate</th>\n",
       "    </tr>\n",
       "  </thead>\n",
       "  <tbody>\n",
       "    <tr>\n",
       "      <th>0</th>\n",
       "      <td>3650</td>\n",
       "      <td>34.6</td>\n",
       "      <td>11.1</td>\n",
       "      <td>2358</td>\n",
       "      <td>6224</td>\n",
       "      <td>62.9</td>\n",
       "      <td>539.3</td>\n",
       "      <td>7792</td>\n",
       "      <td>4</td>\n",
       "      <td>NaN</td>\n",
       "    </tr>\n",
       "    <tr>\n",
       "      <th>1</th>\n",
       "      <td>4883</td>\n",
       "      <td>72.4</td>\n",
       "      <td>7.3</td>\n",
       "      <td>873</td>\n",
       "      <td>2236</td>\n",
       "      <td>64.9</td>\n",
       "      <td>185.2</td>\n",
       "      <td>2353</td>\n",
       "      <td>4</td>\n",
       "      <td>NaN</td>\n",
       "    </tr>\n",
       "    <tr>\n",
       "      <th>2</th>\n",
       "      <td>1435</td>\n",
       "      <td>13.4</td>\n",
       "      <td>11.7</td>\n",
       "      <td>342</td>\n",
       "      <td>1076</td>\n",
       "      <td>44.7</td>\n",
       "      <td>156.8</td>\n",
       "      <td>2165</td>\n",
       "      <td>1</td>\n",
       "      <td>NaN</td>\n",
       "    </tr>\n",
       "    <tr>\n",
       "      <th>3</th>\n",
       "      <td>2042</td>\n",
       "      <td>24.5</td>\n",
       "      <td>16.5</td>\n",
       "      <td>4071</td>\n",
       "      <td>10039</td>\n",
       "      <td>51.9</td>\n",
       "      <td>681.7</td>\n",
       "      <td>10166</td>\n",
       "      <td>3</td>\n",
       "      <td>NaN</td>\n",
       "    </tr>\n",
       "    <tr>\n",
       "      <th>4</th>\n",
       "      <td>1630</td>\n",
       "      <td>41.9</td>\n",
       "      <td>10.7</td>\n",
       "      <td>724</td>\n",
       "      <td>4395</td>\n",
       "      <td>50.0</td>\n",
       "      <td>198.0</td>\n",
       "      <td>2445</td>\n",
       "      <td>3</td>\n",
       "      <td>NaN</td>\n",
       "    </tr>\n",
       "  </tbody>\n",
       "</table>\n",
       "</div>"
      ],
      "text/plain": [
       "   land_area  percent_city  percent_senior  physicians  hospital_beds  \\\n",
       "0       3650          34.6            11.1        2358           6224   \n",
       "1       4883          72.4             7.3         873           2236   \n",
       "2       1435          13.4            11.7         342           1076   \n",
       "3       2042          24.5            16.5        4071          10039   \n",
       "4       1630          41.9            10.7         724           4395   \n",
       "\n",
       "   graduates  labor  income  region  crime_rate  \n",
       "0       62.9  539.3    7792       4         NaN  \n",
       "1       64.9  185.2    2353       4         NaN  \n",
       "2       44.7  156.8    2165       1         NaN  \n",
       "3       51.9  681.7   10166       3         NaN  \n",
       "4       50.0  198.0    2445       3         NaN  "
      ]
     },
     "execution_count": 232,
     "metadata": {},
     "output_type": "execute_result"
    }
   ],
   "source": [
    "test_data = pd.read_csv(\"Standard Metropolitan Areas Data - model_prediction.csv\")\n",
    "test_data.head()"
   ]
  },
  {
   "cell_type": "code",
   "execution_count": 233,
   "metadata": {},
   "outputs": [
    {
     "data": {
      "text/plain": [
       "(42, 10)"
      ]
     },
     "execution_count": 233,
     "metadata": {},
     "output_type": "execute_result"
    }
   ],
   "source": [
    "test_data.shape"
   ]
  },
  {
   "cell_type": "code",
   "execution_count": 245,
   "metadata": {},
   "outputs": [],
   "source": [
    "# plt.scatter(X_train, y_train)\n",
    "# plt.ylabel(\"crime rate\")\n",
    "# plt.xlabel(\"no. of graduates\")\n",
    "# plt.show()"
   ]
  },
  {
   "cell_type": "code",
   "execution_count": 235,
   "metadata": {},
   "outputs": [],
   "source": [
    "#Linear Regression\n",
    "lin_reg = LinearRegression()\n",
    "# lin_regr.fit(train_data[['graduates']], train_data[['crime_rate']])\n",
    "linreg_model = lin_reg.fit(X_train, y_train)"
   ]
  },
  {
   "cell_type": "code",
   "execution_count": 236,
   "metadata": {},
   "outputs": [
    {
     "name": "stdout",
     "output_type": "stream",
     "text": [
      "Coefficients: \n",
      " [[ 6.11420118e-04  6.23399119e-03 -1.00749088e+00  1.21753265e-05\n",
      "  -8.76283918e-04  1.33063780e-01  1.07503980e-03  7.66770584e-04\n",
      "   6.66486866e+00]]\n",
      "intercept: \n",
      " [39.48014549]\n"
     ]
    }
   ],
   "source": [
    "print('Coefficients: \\n', lin_reg.coef_)\n",
    "print('intercept: \\n', lin_reg.intercept_)"
   ]
  },
  {
   "cell_type": "code",
   "execution_count": 237,
   "metadata": {},
   "outputs": [],
   "source": [
    "#formula obtained for the trained model\n",
    "def graph(formula, x_range):\n",
    "    x = np.array(x_range)\n",
    "    y = eval(formula)\n",
    "    plt.plot(x, y)"
   ]
  },
  {
   "cell_type": "code",
   "execution_count": 238,
   "metadata": {},
   "outputs": [
    {
     "name": "stdout",
     "output_type": "stream",
     "text": [
      "0.5481443749554663\n"
     ]
    }
   ],
   "source": [
    "#plotting the prediction line \n",
    "# graph('lin_regr.coef_*x + lin_regr.intercept_', range(20, 80))\n",
    "print(lin_reg.score(X_train, y_train))"
   ]
  },
  {
   "cell_type": "code",
   "execution_count": 239,
   "metadata": {},
   "outputs": [
    {
     "name": "stdout",
     "output_type": "stream",
     "text": [
      "Score: 0.050125705101345286\n"
     ]
    }
   ],
   "source": [
    "print(\"Score:\", linreg_model.score(X_test, y_test))"
   ]
  },
  {
   "cell_type": "code",
   "execution_count": 240,
   "metadata": {},
   "outputs": [
    {
     "data": {
      "text/plain": [
       "array([[57.87120199],\n",
       "       [60.17033689],\n",
       "       [56.35809449],\n",
       "       [41.74509816],\n",
       "       [45.10995601],\n",
       "       [56.40639632],\n",
       "       [38.14832948],\n",
       "       [68.89397088],\n",
       "       [57.42643379],\n",
       "       [58.94299669],\n",
       "       [47.00266346],\n",
       "       [51.91360837],\n",
       "       [43.38196375],\n",
       "       [40.97266073],\n",
       "       [52.11614828],\n",
       "       [54.06827057],\n",
       "       [56.65617415],\n",
       "       [40.6812722 ],\n",
       "       [58.22325891],\n",
       "       [54.15844559]])"
      ]
     },
     "execution_count": 240,
     "metadata": {},
     "output_type": "execute_result"
    }
   ],
   "source": [
    "predictions = lin_reg.predict(X_test)\n",
    "predictions"
   ]
  },
  {
   "cell_type": "code",
   "execution_count": 241,
   "metadata": {},
   "outputs": [
    {
     "name": "stdout",
     "output_type": "stream",
     "text": [
      "R2 Score: 0.050125705101345286\n"
     ]
    }
   ],
   "source": [
    "print(\"R2 Score:\", r2_score(y_test, predictions))"
   ]
  },
  {
   "cell_type": "code",
   "execution_count": 242,
   "metadata": {},
   "outputs": [],
   "source": [
    "sc_X = StandardScaler()\n",
    "sc_y = StandardScaler()\n",
    "scX_train = sc_X.fit_transform(X_train)\n",
    "scy_train = sc_y.fit_transform(y_train)\n",
    "scX_test = sc_X.fit_transform(X_test)\n",
    "scy_test = sc_y.fit_transform(y_test)"
   ]
  },
  {
   "cell_type": "code",
   "execution_count": 243,
   "metadata": {},
   "outputs": [
    {
     "name": "stderr",
     "output_type": "stream",
     "text": [
      "/home/gunnika/anaconda3/lib/python3.7/site-packages/sklearn/utils/validation.py:760: DataConversionWarning: A column-vector y was passed when a 1d array was expected. Please change the shape of y to (n_samples, ), for example using ravel().\n",
      "  y = column_or_1d(y, warn=True)\n"
     ]
    }
   ],
   "source": [
    "#Support Vector Regression\n",
    "svr = SVR(kernel = 'rbf')\n",
    "svr_model = svr.fit(scX_train, scy_train)"
   ]
  },
  {
   "cell_type": "code",
   "execution_count": 244,
   "metadata": {},
   "outputs": [
    {
     "name": "stdout",
     "output_type": "stream",
     "text": [
      "Score: 0.3260001757621205\n"
     ]
    }
   ],
   "source": [
    "print(\"Score:\", svr_model.score(scX_test, scy_test))"
   ]
  },
  {
   "cell_type": "code",
   "execution_count": null,
   "metadata": {},
   "outputs": [],
   "source": []
  }
 ],
 "metadata": {
  "kernelspec": {
   "display_name": "Python 3",
   "language": "python",
   "name": "python3"
  },
  "language_info": {
   "codemirror_mode": {
    "name": "ipython",
    "version": 3
   },
   "file_extension": ".py",
   "mimetype": "text/x-python",
   "name": "python",
   "nbconvert_exporter": "python",
   "pygments_lexer": "ipython3",
   "version": "3.7.3"
  }
 },
 "nbformat": 4,
 "nbformat_minor": 2
}
